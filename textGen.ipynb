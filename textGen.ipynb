{
 "cells": [
  {
   "cell_type": "code",
   "execution_count": 1,
   "metadata": {},
   "outputs": [
    {
     "name": "stderr",
     "output_type": "stream",
     "text": [
      "c:\\Users\\meaps\\AppData\\Local\\Programs\\Python\\Python310\\lib\\site-packages\\tqdm\\auto.py:21: TqdmWarning: IProgress not found. Please update jupyter and ipywidgets. See https://ipywidgets.readthedocs.io/en/stable/user_install.html\n",
      "  from .autonotebook import tqdm as notebook_tqdm\n",
      "tokenizer_config.json: 100%|██████████| 1.64k/1.64k [00:00<?, ?B/s]\n",
      "c:\\Users\\meaps\\AppData\\Local\\Programs\\Python\\Python310\\lib\\site-packages\\huggingface_hub\\file_download.py:149: UserWarning: `huggingface_hub` cache-system uses symlinks by default to efficiently store duplicated files but your machine does not support them in C:\\Users\\meaps\\.cache\\huggingface\\hub\\models--teknium--OpenHermes-2-Mistral-7B. Caching files will still work but in a degraded version that might require more space on your disk. This warning can be disabled by setting the `HF_HUB_DISABLE_SYMLINKS_WARNING` environment variable. For more details, see https://huggingface.co/docs/huggingface_hub/how-to-cache#limitations.\n",
      "To support symlinks on Windows, you either need to activate Developer Mode or to run Python as an administrator. In order to see activate developer mode, see this article: https://docs.microsoft.com/en-us/windows/apps/get-started/enable-your-device-for-development\n",
      "  warnings.warn(message)\n",
      "tokenizer.model: 100%|██████████| 493k/493k [00:00<00:00, 5.39MB/s]\n",
      "added_tokens.json: 100%|██████████| 51.0/51.0 [00:00<?, ?B/s]\n",
      "special_tokens_map.json: 100%|██████████| 174/174 [00:00<00:00, 174kB/s]\n",
      "Special tokens have been added in the vocabulary, make sure the associated word embeddings are fine-tuned or trained.\n",
      "Special tokens have been added in the vocabulary, make sure the associated word embeddings are fine-tuned or trained.\n",
      "Loading checkpoint shards: 100%|██████████| 2/2 [01:24<00:00, 42.36s/it]\n"
     ]
    }
   ],
   "source": [
    "import torch\n",
    "from transformers import AutoModelForCausalLM, AutoTokenizer\n",
    "import time\n",
    "from accelerate import Accelerator\n",
    "from peft import prepare_model_for_kbit_training, prepare_model_for_int8_training\n",
    "\n",
    "\n",
    "# Initialize the tokenizer and model\n",
    "#model_id = \"mistralai/Mistral-7B-Instruct-v0.2\"\n",
    "model_id = \"teknium/OpenHermes-2-Mistral-7B\"\n",
    "tokenizer = AutoTokenizer.from_pretrained(model_id)\n",
    "precision = \"fp4\"\n",
    "path=f\"N:\\\\AI\\\\text-generation-webui-main\\\\models\\\\teknium_OpenHermes-2-Mistral-7B\\\\\"\n",
    "#path=f\"N:\\\\AI\\\\mistral-7B-instruct\\\\\"\n",
    "\n",
    "if (precision == \"fp16\"):\n",
    "    model = AutoModelForCausalLM.from_pretrained(path, torch_dtype=torch.float16).to(0)\n",
    "elif (precision == \"fp8\"):\n",
    "    model = AutoModelForCausalLM.from_pretrained(path,  load_in_8bit=True, device_map='cuda')\n",
    "elif (precision == \"fp4\"):\n",
    "    model = AutoModelForCausalLM.from_pretrained(path,  load_in_4bit=True, device_map='cuda')"
   ]
  },
  {
   "cell_type": "code",
   "execution_count": 12,
   "metadata": {},
   "outputs": [
    {
     "name": "stdout",
     "output_type": "stream",
     "text": [
      "\n",
      "The world seems like it's against me; everyone has something out for me.\n"
     ]
    }
   ],
   "source": [
    "# Example input text\n",
    "additional_context = \"[INST] The following is a conversation with an AI assistant. The assistant is helpful and concise. The assistant does not respond to the question, and only does as the question says. [/INST]\"\n",
    "input_text = \"8 Please generate a single sentence with only the \\\"Mental Filters\\\" cognitive distortion, from the perspective of the person with the distortion.\"\n",
    "\n",
    "# Generate outputs\n",
    "def generate_response(text):\n",
    "    try:\n",
    "        # Append a prompt to the user's input\n",
    "        text = additional_context+\"\\n\"+\"[INST] \" + text + \" [/INST]\"\n",
    "        inputs = tokenizer(text, return_tensors=\"pt\").to(0)\n",
    "        outputs = model.generate(**inputs, max_new_tokens=512, do_sample=True, use_cache=True, top_k=40, top_p=0.1, temperature=0.7, repetition_penalty=1.2, num_return_sequences=1, pad_token_id=tokenizer.eos_token_id, eos_token_id=tokenizer.eos_token_id, bos_token_id=tokenizer.bos_token_id, )\n",
    "        response = tokenizer.decode(outputs[0], skip_special_tokens=True)\n",
    "\n",
    "        # Remove the prompt from the start of the response\n",
    "        response = response[len(text):]\n",
    "    except Exception as e:\n",
    "        response = \"Sorry, I encountered an error. Please try again.\"\n",
    "        print(e)\n",
    "    return response\n",
    "\n",
    "# Generate a response\n",
    "outputs = generate_response(input_text)\n",
    "\n",
    "# Decode the generated outputs\n",
    "print(outputs)"
   ]
  }
 ],
 "metadata": {
  "kernelspec": {
   "display_name": "Python 3",
   "language": "python",
   "name": "python3"
  },
  "language_info": {
   "codemirror_mode": {
    "name": "ipython",
    "version": 3
   },
   "file_extension": ".py",
   "mimetype": "text/x-python",
   "name": "python",
   "nbconvert_exporter": "python",
   "pygments_lexer": "ipython3",
   "version": "3.10.10"
  }
 },
 "nbformat": 4,
 "nbformat_minor": 2
}
