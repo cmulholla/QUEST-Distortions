{
 "cells": [
  {
   "cell_type": "code",
   "execution_count": 1,
   "metadata": {},
   "outputs": [
    {
     "name": "stderr",
     "output_type": "stream",
     "text": [
      "c:\\Users\\meaps\\AppData\\Local\\Programs\\Python\\Python310\\lib\\site-packages\\tqdm\\auto.py:21: TqdmWarning: IProgress not found. Please update jupyter and ipywidgets. See https://ipywidgets.readthedocs.io/en/stable/user_install.html\n",
      "  from .autonotebook import tqdm as notebook_tqdm\n"
     ]
    },
    {
     "name": "stdout",
     "output_type": "stream",
     "text": [
      "Distorted        1597\n",
      "No Distortion     933\n",
      "Name: Dominant Distortion, dtype: int64\n"
     ]
    }
   ],
   "source": [
    "import numpy as np\n",
    "import pandas as pd\n",
    "from sklearn.model_selection import train_test_split\n",
    "from sentence_transformers import SentenceTransformer\n",
    "from sklearn.neural_network import MLPClassifier\n",
    "from sklearn.metrics import f1_score\n",
    "from sklearn.svm import SVC, LinearSVC\n",
    "\n",
    "#vectorizer = SentenceTransformer('intfloat/multilingual-e5-large-instruct', cache_folder=\"N:\\AI\\Transformers_cache\")\n",
    "vectorizer = SentenceTransformer('sentence-transformers/all-mpnet-base-v2')\n",
    "#vectorizer = SentenceTransformer(\"Salesforce/SFR-Embedding-Mistral\")\n",
    "#model = MLPClassifier(random_state=42, alpha=0.25)\n",
    "model = LinearSVC(C=0.5, random_state=42)\n",
    "\n",
    "data = pd.read_csv('Annotated_data.csv')\n",
    "distortion_data = data[data['Dominant Distortion'] != 'No Distortion']\n",
    "distortion_data = distortion_data.reset_index(drop=True)\n",
    "\n",
    "discreteData = data[['Id_Number', 'Patient Question', 'Dominant Distortion']].copy()\n",
    "discreteData.loc[discreteData['Dominant Distortion'] != 'No Distortion', 'Dominant Distortion'] = 'Distorted'\n",
    "\n",
    "X_train, X_test, y_train, y_test = train_test_split(discreteData['Patient Question'], discreteData['Dominant Distortion'], test_size=0.2, random_state=42)\n",
    "\n",
    "# print the classes in discreteData\n",
    "print(discreteData['Dominant Distortion'].value_counts())"
   ]
  },
  {
   "cell_type": "code",
   "execution_count": 3,
   "metadata": {},
   "outputs": [],
   "source": [
    "# vectorize the training data\n",
    "X_train_vector = vectorizer.encode(X_train.tolist())\n",
    "X_test_vector = vectorizer.encode(X_test.tolist())\n",
    "\n",
    "# store the vectors in a dataframe\n",
    "X_train_vector = pd.DataFrame(X_train_vector)\n",
    "X_test_vector = pd.DataFrame(X_test_vector)\n",
    "\n",
    "# store the dataframe in a csv file\n",
    "X_train_vector.to_csv('X_train_vector.csv', index=False)\n",
    "X_test_vector.to_csv('X_test_vector.csv', index=False)\n",
    "\n",
    "# store the y_train and y_test in a csv file\n",
    "y_train.to_csv('y_train.csv', index=False)\n",
    "y_test.to_csv('y_test.csv', index=False)\n",
    "\n"
   ]
  },
  {
   "cell_type": "code",
   "execution_count": 4,
   "metadata": {},
   "outputs": [
    {
     "name": "stdout",
     "output_type": "stream",
     "text": [
      "0.7134102938155855\n"
     ]
    },
    {
     "name": "stderr",
     "output_type": "stream",
     "text": [
      "c:\\Users\\meaps\\AppData\\Local\\Programs\\Python\\Python310\\lib\\site-packages\\sklearn\\utils\\validation.py:1183: DataConversionWarning: A column-vector y was passed when a 1d array was expected. Please change the shape of y to (n_samples, ), for example using ravel().\n",
      "  y = column_or_1d(y, warn=True)\n",
      "c:\\Users\\meaps\\AppData\\Local\\Programs\\Python\\Python310\\lib\\site-packages\\sklearn\\svm\\_classes.py:32: FutureWarning: The default value of `dual` will change from `True` to `'auto'` in 1.5. Set the value of `dual` explicitly to suppress the warning.\n",
      "  warnings.warn(\n"
     ]
    }
   ],
   "source": [
    "# read the vectors from the csv file\n",
    "X_train_vector = pd.read_csv('X_train_vector.csv')\n",
    "X_test_vector = pd.read_csv('X_test_vector.csv')\n",
    "\n",
    "# read the y_train and y_test from the csv file\n",
    "y_train = pd.read_csv('y_train.csv')\n",
    "y_test = pd.read_csv('y_test.csv')\n",
    "\n",
    "# train the model\n",
    "model.fit(X_train_vector, y_train)\n",
    "\n",
    "# predict the test data\n",
    "y_pred = model.predict(X_test_vector)\n",
    "\n",
    "# calculate the f1 score\n",
    "f1 = f1_score(y_test, y_pred, average='weighted')\n",
    "print(f1)"
   ]
  }
 ],
 "metadata": {
  "kernelspec": {
   "display_name": "Python 3",
   "language": "python",
   "name": "python3"
  },
  "language_info": {
   "codemirror_mode": {
    "name": "ipython",
    "version": 3
   },
   "file_extension": ".py",
   "mimetype": "text/x-python",
   "name": "python",
   "nbconvert_exporter": "python",
   "pygments_lexer": "ipython3",
   "version": "3.10.10"
  }
 },
 "nbformat": 4,
 "nbformat_minor": 2
}
