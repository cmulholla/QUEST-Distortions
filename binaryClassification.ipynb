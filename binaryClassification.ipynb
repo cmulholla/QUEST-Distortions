{
 "cells": [
  {
   "cell_type": "code",
   "execution_count": 154,
   "metadata": {},
   "outputs": [
    {
     "name": "stdout",
     "output_type": "stream",
     "text": [
      "Distorted        1597\n",
      "No Distortion     933\n",
      "Name: Dominant Distortion, dtype: int64\n"
     ]
    }
   ],
   "source": [
    "import numpy as np\n",
    "import pandas as pd\n",
    "from sklearn.model_selection import train_test_split\n",
    "from sentence_transformers import SentenceTransformer\n",
    "from sklearn.neural_network import MLPClassifier\n",
    "from sklearn.metrics import f1_score\n",
    "from sklearn.svm import SVC, LinearSVC\n",
    "\n",
    "vectorizer = SentenceTransformer('intfloat/multilingual-e5-large-instruct', cache_folder=\"N:\\AI\\Transformers_cache\")\n",
    "#vectorizer = SentenceTransformer('sentence-transformers/all-mpnet-base-v2')\n",
    "#vectorizer = SentenceTransformer('multi-qa-mpnet-base-dot-v1')\n",
    "#vectorizer = SentenceTransformer('avsolatorio/GIST-large-Embedding-v0', device='cuda:0')\n",
    "#model = MLPClassifier(random_state=42, alpha=0.25)\n",
    "model = LinearSVC(C=0.5, random_state=42)\n",
    "\n",
    "data = pd.read_csv('Annotated_data.csv')\n",
    "distortion_data = data[data['Dominant Distortion'] != 'No Distortion']\n",
    "distortion_data = distortion_data.reset_index(drop=True)\n",
    "\n",
    "discreteData = data[['Id_Number', 'Patient Question', 'Dominant Distortion']].copy()\n",
    "discreteData.loc[discreteData['Dominant Distortion'] != 'No Distortion', 'Dominant Distortion'] = 'Distorted'\n",
    "\n",
    "# undersample the majority class of the discrete data to be equal to the minority class\n",
    "no_distortion = discreteData[discreteData['Dominant Distortion'] == 'No Distortion']\n",
    "distorted = discreteData[discreteData['Dominant Distortion'] == 'Distorted']\n",
    "distorted = distorted.sample(n=no_distortion.shape[0], random_state=42)\n",
    "#discreteData = pd.concat([no_distortion, distorted])\n",
    "#discreteData = discreteData.reset_index(drop=True)\n",
    "\n",
    "X_train, X_test, y_train, y_test = train_test_split(discreteData['Patient Question'], discreteData['Dominant Distortion'], test_size=0.2, random_state=42)\n",
    "\n",
    "# print the classes in discreteData\n",
    "print(discreteData['Dominant Distortion'].value_counts())"
   ]
  },
  {
   "cell_type": "code",
   "execution_count": 155,
   "metadata": {},
   "outputs": [
    {
     "name": "stdout",
     "output_type": "stream",
     "text": [
      "['Magnification' 'Labeling' 'Personalization' 'Fortune-telling'\n",
      " 'Emotional Reasoning' 'Mental filter']\n",
      "['Personalization' 'Labeling' 'Fortune-telling' 'Magnification'\n",
      " 'Mind Reading' 'All-or-nothing thinking' 'Overgeneralization'\n",
      " 'Mental filter' 'Emotional Reasoning' 'Should statements']\n"
     ]
    },
    {
     "data": {
      "text/plain": [
       "Mental filter          116\n",
       "Emotional Reasoning    105\n",
       "Fortune-telling         96\n",
       "Personalization         86\n",
       "Labeling                74\n",
       "Magnification           41\n",
       "Name: Dominant Distortion, dtype: int64"
      ]
     },
     "execution_count": 155,
     "metadata": {},
     "output_type": "execute_result"
    }
   ],
   "source": [
    "# load the generated data from \"distorted_parts5sample150.csv\" to add to the training data\n",
    "generated_data = pd.read_csv('distorted_parts2.csv')\n",
    "generated_data = generated_data.dropna()\n",
    "generated_data = generated_data.reset_index(drop=True)\n",
    "\n",
    "# Change the \"Mental Filers\" class name to \"Mental filter\" to match the original data\n",
    "generated_data['Dominant Distortion'] = generated_data['Dominant Distortion'].replace('Mental Filter', 'Mental filter')\n",
    "\n",
    "# remove the generated data which contains \"[INST]\" and \"<|im_start|>\", and do some other preprocessing\n",
    "generated_data = generated_data[~generated_data['Distorted part'].str.contains(\"\\[INST\\]|\\|im_start\\|\")]\n",
    "\n",
    "# remove \"\\n\" characters from the generated data\n",
    "generated_data['Distorted part'] = generated_data['Distorted part'].str.replace(\"\\n\", \" \")\n",
    "\n",
    "# print the generated data's unique classes\n",
    "print(generated_data['Dominant Distortion'].unique())\n",
    "\n",
    "# print the original data's unique classes\n",
    "print(distortion_data['Dominant Distortion'].unique())\n",
    "\n",
    "# print the amount of data per class\n",
    "generated_data['Dominant Distortion'].value_counts()"
   ]
  },
  {
   "cell_type": "code",
   "execution_count": 156,
   "metadata": {},
   "outputs": [
    {
     "name": "stderr",
     "output_type": "stream",
     "text": [
      "C:\\Users\\meaps\\AppData\\Local\\Temp\\ipykernel_25592\\1614901727.py:2: FutureWarning: The default value of regex will change from True to False in a future version.\n",
      "  discreteData['Patient Question'] = discreteData['Patient Question'].str.replace(r'[^\\w\\s]', '')\n",
      "C:\\Users\\meaps\\AppData\\Local\\Temp\\ipykernel_25592\\1614901727.py:3: FutureWarning: The default value of regex will change from True to False in a future version.\n",
      "  discreteData['Patient Question'] = discreteData['Patient Question'].str.replace(r'\\d+', '')\n",
      "C:\\Users\\meaps\\AppData\\Local\\Temp\\ipykernel_25592\\1614901727.py:7: FutureWarning: The default value of regex will change from True to False in a future version.\n",
      "  generated_data['Distorted part'] = generated_data['Distorted part'].str.replace(r'[^\\w\\s]', '')\n",
      "C:\\Users\\meaps\\AppData\\Local\\Temp\\ipykernel_25592\\1614901727.py:8: FutureWarning: The default value of regex will change from True to False in a future version.\n",
      "  generated_data['Distorted part'] = generated_data['Distorted part'].str.replace(r'\\d+', '')\n"
     ]
    }
   ],
   "source": [
    "# Clean the data\n",
    "discreteData['Patient Question'] = discreteData['Patient Question'].str.replace(r'[^\\w\\s]', '')\n",
    "discreteData['Patient Question'] = discreteData['Patient Question'].str.replace(r'\\d+', '')\n",
    "discreteData['Patient Question'] = discreteData['Patient Question'].str.lower()\n",
    "\n",
    "# Clean the generated data\n",
    "generated_data['Distorted part'] = generated_data['Distorted part'].str.replace(r'[^\\w\\s]', '')\n",
    "generated_data['Distorted part'] = generated_data['Distorted part'].str.replace(r'\\d+', '')\n",
    "generated_data['Distorted part'] = generated_data['Distorted part'].str.lower()"
   ]
  },
  {
   "cell_type": "code",
   "execution_count": 157,
   "metadata": {},
   "outputs": [
    {
     "name": "stdout",
     "output_type": "stream",
     "text": [
      "Distorted    518\n",
      "Name: Dominant Distortion, dtype: int64\n"
     ]
    },
    {
     "name": "stderr",
     "output_type": "stream",
     "text": [
      "C:\\Users\\meaps\\AppData\\Local\\Temp\\ipykernel_25592\\1168663754.py:8: FutureWarning: The series.append method is deprecated and will be removed from pandas in a future version. Use pandas.concat instead.\n",
      "  X_train_new = X_train.append(generated_data['Distorted part'], ignore_index=True)\n",
      "C:\\Users\\meaps\\AppData\\Local\\Temp\\ipykernel_25592\\1168663754.py:9: FutureWarning: The series.append method is deprecated and will be removed from pandas in a future version. Use pandas.concat instead.\n",
      "  y_train_new = y_train.append(generated_data['Dominant Distortion'], ignore_index=True)\n",
      "C:\\Users\\meaps\\AppData\\Local\\Temp\\ipykernel_25592\\1168663754.py:12: FutureWarning: The frame.append method is deprecated and will be removed from pandas in a future version. Use pandas.concat instead.\n",
      "  discreteData_new = discreteData.append(generated_data, ignore_index=True)\n"
     ]
    },
    {
     "data": {
      "text/plain": [
       "Distorted        2115\n",
       "No Distortion     933\n",
       "Name: Dominant Distortion, dtype: int64"
      ]
     },
     "execution_count": 157,
     "metadata": {},
     "output_type": "execute_result"
    }
   ],
   "source": [
    "# make the generated data's class names be discrete\n",
    "generated_data.loc[generated_data['Dominant Distortion'] != 'No Distortion', 'Dominant Distortion'] = 'Distorted'\n",
    "\n",
    "# print the amount of data per class\n",
    "print(generated_data['Dominant Distortion'].value_counts())\n",
    "\n",
    "# add the generated data to the training data\n",
    "X_train_new = X_train.append(generated_data['Distorted part'], ignore_index=True)\n",
    "y_train_new = y_train.append(generated_data['Dominant Distortion'], ignore_index=True)\n",
    "\n",
    "# add the generated data to the distortion data\n",
    "discreteData_new = discreteData.append(generated_data, ignore_index=True)\n",
    "\n",
    "# print the amount of data per class\n",
    "discreteData_new['Dominant Distortion'].value_counts()"
   ]
  },
  {
   "cell_type": "code",
   "execution_count": 158,
   "metadata": {},
   "outputs": [],
   "source": [
    "from sklearn.experimental import enable_halving_search_cv\n",
    "from sklearn.model_selection import RandomizedSearchCV, HalvingGridSearchCV\n",
    "\n",
    "def tuneParams(model, params, X_train, y_train, X_test, y_test):\n",
    "    # Create a HalvingGridSearchCV and a RandomizedSearchCV object with the model and vectorizer\n",
    "    search = HalvingGridSearchCV(model, params, cv=5, n_jobs=-1, verbose=1)\n",
    "    #search = RandomizedSearchCV(model, params, n_iter=100, cv=5, n_jobs=-1, verbose=1)\n",
    "\n",
    "    # Train and test the model\n",
    "    search.fit(X_train, y_train)\n",
    "\n",
    "    # Predict the labels for the testing data\n",
    "    y_pred = search.predict(X_test)\n",
    "\n",
    "    # Calculate the F1-score\n",
    "    f1 = f1_score(y_test, y_pred, average='weighted')\n",
    "\n",
    "    # Output the F1-score\n",
    "    print(f\"{model.__class__.__name__} F1-score: {f1}\")\n",
    "\n",
    "    # Print the best parameters\n",
    "    print(search.best_params_)\n",
    "    return (f1, search)"
   ]
  },
  {
   "cell_type": "code",
   "execution_count": 159,
   "metadata": {},
   "outputs": [
    {
     "name": "stdout",
     "output_type": "stream",
     "text": [
      "Finished Encoding X Training Data\n",
      "Finished Encoding X Testing Data\n"
     ]
    }
   ],
   "source": [
    "# vectorize the data\n",
    "X_train_vectorized_new = vectorizer.encode(X_train_new.tolist())\n",
    "print(\"Finished Encoding X Training Data\")\n",
    "X_test_vectorized = vectorizer.encode(X_test.tolist())\n",
    "print(\"Finished Encoding X Testing Data\")"
   ]
  },
  {
   "cell_type": "code",
   "execution_count": 160,
   "metadata": {},
   "outputs": [
    {
     "name": "stdout",
     "output_type": "stream",
     "text": [
      "n_iterations: 4\n",
      "n_required_iterations: 4\n",
      "n_possible_iterations: 4\n",
      "min_resources_: 94\n",
      "max_resources_: 2542\n",
      "aggressive_elimination: False\n",
      "factor: 3\n",
      "----------\n",
      "iter: 0\n",
      "n_candidates: 45\n",
      "n_resources: 94\n",
      "Fitting 5 folds for each of 45 candidates, totalling 225 fits\n",
      "----------\n",
      "iter: 1\n",
      "n_candidates: 15\n",
      "n_resources: 282\n",
      "Fitting 5 folds for each of 15 candidates, totalling 75 fits\n",
      "----------\n",
      "iter: 2\n",
      "n_candidates: 5\n",
      "n_resources: 846\n",
      "Fitting 5 folds for each of 5 candidates, totalling 25 fits\n",
      "----------\n",
      "iter: 3\n",
      "n_candidates: 2\n",
      "n_resources: 2538\n",
      "Fitting 5 folds for each of 2 candidates, totalling 10 fits\n"
     ]
    },
    {
     "name": "stderr",
     "output_type": "stream",
     "text": [
      "c:\\Users\\meaps\\AppData\\Local\\Programs\\Python\\Python310\\lib\\site-packages\\sklearn\\linear_model\\_logistic.py:460: ConvergenceWarning: lbfgs failed to converge (status=1):\n",
      "STOP: TOTAL NO. of ITERATIONS REACHED LIMIT.\n",
      "\n",
      "Increase the number of iterations (max_iter) or scale the data as shown in:\n",
      "    https://scikit-learn.org/stable/modules/preprocessing.html\n",
      "Please also refer to the documentation for alternative solver options:\n",
      "    https://scikit-learn.org/stable/modules/linear_model.html#logistic-regression\n",
      "  n_iter_i = _check_optimize_result(\n"
     ]
    },
    {
     "name": "stdout",
     "output_type": "stream",
     "text": [
      "LogisticRegression F1-score: 0.7563810963559895\n",
      "{'C': 8.5}\n",
      "n_iterations: 4\n",
      "n_required_iterations: 4\n",
      "n_possible_iterations: 4\n",
      "min_resources_: 94\n",
      "max_resources_: 2542\n",
      "aggressive_elimination: False\n",
      "factor: 3\n",
      "----------\n",
      "iter: 0\n",
      "n_candidates: 35\n",
      "n_resources: 94\n",
      "Fitting 5 folds for each of 35 candidates, totalling 175 fits\n",
      "----------\n",
      "iter: 1\n",
      "n_candidates: 12\n",
      "n_resources: 282\n",
      "Fitting 5 folds for each of 12 candidates, totalling 60 fits\n",
      "----------\n",
      "iter: 2\n",
      "n_candidates: 4\n",
      "n_resources: 846\n",
      "Fitting 5 folds for each of 4 candidates, totalling 20 fits\n",
      "----------\n",
      "iter: 3\n",
      "n_candidates: 2\n",
      "n_resources: 2538\n",
      "Fitting 5 folds for each of 2 candidates, totalling 10 fits\n",
      "SVC F1-score: 0.7591338265531513\n",
      "{'C': 2.75}\n",
      "n_iterations: 4\n",
      "n_required_iterations: 4\n",
      "n_possible_iterations: 4\n",
      "min_resources_: 94\n",
      "max_resources_: 2542\n",
      "aggressive_elimination: False\n",
      "factor: 3\n",
      "----------\n",
      "iter: 0\n",
      "n_candidates: 32\n",
      "n_resources: 94\n",
      "Fitting 5 folds for each of 32 candidates, totalling 160 fits\n",
      "----------\n",
      "iter: 1\n",
      "n_candidates: 11\n",
      "n_resources: 282\n",
      "Fitting 5 folds for each of 11 candidates, totalling 55 fits\n",
      "----------\n",
      "iter: 2\n",
      "n_candidates: 4\n",
      "n_resources: 846\n",
      "Fitting 5 folds for each of 4 candidates, totalling 20 fits\n",
      "----------\n",
      "iter: 3\n",
      "n_candidates: 2\n",
      "n_resources: 2538\n",
      "Fitting 5 folds for each of 2 candidates, totalling 10 fits\n"
     ]
    },
    {
     "name": "stderr",
     "output_type": "stream",
     "text": [
      "c:\\Users\\meaps\\AppData\\Local\\Programs\\Python\\Python310\\lib\\site-packages\\sklearn\\svm\\_classes.py:32: FutureWarning: The default value of `dual` will change from `True` to `'auto'` in 1.5. Set the value of `dual` explicitly to suppress the warning.\n",
      "  warnings.warn(\n"
     ]
    },
    {
     "name": "stdout",
     "output_type": "stream",
     "text": [
      "LinearSVC F1-score: 0.751978145082053\n",
      "{'C': 0.5}\n",
      "n_iterations: 3\n",
      "n_required_iterations: 3\n",
      "n_possible_iterations: 3\n",
      "min_resources_: 282\n",
      "max_resources_: 2542\n",
      "aggressive_elimination: False\n",
      "factor: 3\n",
      "----------\n",
      "iter: 0\n",
      "n_candidates: 14\n",
      "n_resources: 282\n",
      "Fitting 5 folds for each of 14 candidates, totalling 70 fits\n",
      "----------\n",
      "iter: 1\n",
      "n_candidates: 5\n",
      "n_resources: 846\n",
      "Fitting 5 folds for each of 5 candidates, totalling 25 fits\n",
      "----------\n",
      "iter: 2\n",
      "n_candidates: 2\n",
      "n_resources: 2538\n",
      "Fitting 5 folds for each of 2 candidates, totalling 10 fits\n",
      "MLPClassifier F1-score: 0.7502491893881852\n",
      "{'alpha': 0.4}\n"
     ]
    }
   ],
   "source": [
    "from sklearn.linear_model import LogisticRegression\n",
    "from sklearn.svm import SVC, LinearSVC, NuSVC\n",
    "from sklearn.neural_network import MLPClassifier\n",
    "from sklearn.neighbors import KNeighborsClassifier\n",
    "from sklearn.tree import DecisionTreeClassifier\n",
    "\n",
    "# Create an array of models to test\n",
    "models = [\n",
    "#    BernoulliNB(),\n",
    "    LogisticRegression(),\n",
    "#    SGDClassifier(),\n",
    "    SVC(),\n",
    "    LinearSVC(),\n",
    "#    DecisionTreeClassifier(),\n",
    "#    RandomForestClassifier(),\n",
    "#    AdaBoostClassifier(),\n",
    "#    KNeighborsClassifier(),\n",
    "    MLPClassifier(),\n",
    "#    NuSVC()\n",
    "]\n",
    "\n",
    "# Create an array of model parameters to test\n",
    "params = [\n",
    "#    {'alpha': [0.1, 0.2, 0.3, 0.4, 0.5, 0.6, 0.7, 0.8, 0.9]},\n",
    "    {'C': [1.5, 1.75, 2, 2.25, 2.5, 2.75, 3, 3.25, 3.5, 3.75, 4, 4.25, 4.5, 4.75, 5, 5.25, 5.5, 5.75, 6, 6.25, 6.5, 6.75, 7, 7.25, 7.5, 7.75, 8, 8.25, 8.5, 8.75, 9, 9.25, 9.5, 9.75, 10, 11, 12, 13, 14, 15, 16, 17, 18, 19, 20]},\n",
    "#    {'alpha': [0.0005, 0.001, 0.0015, 0.002, 0.0025, 0.003]},\n",
    "    {'C': [1.5, 1.75, 2, 2.25, 2.5, 2.75, 3, 3.25, 3.5, 3.75, 4, 4.25, 4.5, 4.75, 5, 5.25, 5.5, 5.75, 6, 6.25, 6.5, 6.75, 7, 7.25, 7.5, 7.75, 8, 8.25, 8.5, 8.75, 9, 9.25, 9.5, 9.75, 10]},\n",
    "    {'C': [0.35, 0.4, 0.5, 0.6, 0.65, 0.70, 0.75, 0.8, 0.85, 0.9, 0.95, 1.0, 1.05, 1.1, 1.15, 1.2, 1.25, 1.3, 1.35, 1.4, 1.45, 1.5, 1.55, 1.6, 1.65, 1.7, 1.75, 1.8, 1.85, 1.9, 1.95, 2.0]},\n",
    "#    {'max_depth': [1, 2, 3, 4, 5 ]},\n",
    "#    {'n_estimators': [70, 80, 90, 100, 110, 120, 130, 140]},\n",
    "#    {'n_estimators': [35, 40, 45, 50, 55, 60, 65, 70, 75]},\n",
    "#    {'n_neighbors': [10, 11, 12, 13, 14, 16, 18, 20, 22]},\n",
    "    {'alpha': [0.35, 0.4, 0.45, 0.5, 0.55, 0.6, 0.65, 0.7, 0.75, 0.8, 0.85, 0.9, 0.95, 1.0]},\n",
    "#    {'nu': [0.6, 0.65, 0.7]}\n",
    "]\n",
    "\n",
    "# store the F1-scores\n",
    "f1_scores = []\n",
    "\n",
    "best_model = None\n",
    "temp_model = None\n",
    "\n",
    "# test all models\n",
    "for i in range(len(models)):\n",
    "    f1, temp_model = tuneParams(models[i], params[i], X_train_vectorized_new, y_train_new, X_test_vectorized, y_test)\n",
    "    \n",
    "    if best_model == None or f1 > max(f1_scores):\n",
    "        best_model = temp_model\n",
    "\n",
    "    f1_scores.append(f1)\n",
    "\n"
   ]
  },
  {
   "cell_type": "code",
   "execution_count": 161,
   "metadata": {},
   "outputs": [
    {
     "data": {
      "image/png": "[encoded data removed]",
      "text/plain": [
       "<Figure size 1200x600 with 1 Axes>"
      ]
     },
     "metadata": {},
     "output_type": "display_data"
    }
   ],
   "source": [
    "import matplotlib.pyplot as plt\n",
    "import seaborn as sns\n",
    "\n",
    "# graph the F1-scores\n",
    "plt.figure(figsize=(12, 6))\n",
    "plt.bar([model.__class__.__name__ for model in models], f1_scores)\n",
    "plt.xticks(rotation=45)\n",
    "plt.ylabel('F1-score')\n",
    "plt.ylim(min(f1_scores)*0.99, max(f1_scores)*1.01)\n",
    "plt.title(f'F1-score for Different Models using {\"multilingual-e5-large-instruct\"} using generated data')\n",
    "plt.show()"
   ]
  },
  {
   "cell_type": "code",
   "execution_count": 162,
   "metadata": {},
   "outputs": [
    {
     "name": "stdout",
     "output_type": "stream",
     "text": [
      "Distorted        2115\n",
      "No Distortion     933\n",
      "Name: Dominant Distortion, dtype: int64\n"
     ]
    },
    {
     "data": {
      "image/png": "[encoded data removed]",
      "text/plain": [
       "<Figure size 1200x600 with 1 Axes>"
      ]
     },
     "metadata": {},
     "output_type": "display_data"
    }
   ],
   "source": [
    "# print the data distribution\n",
    "print(discreteData_new['Dominant Distortion'].value_counts())\n",
    "# graph the data distribution\n",
    "plt.figure(figsize=(12, 6))\n",
    "sns.countplot(data=discreteData_new, x='Dominant Distortion')\n",
    "plt.ylabel('Count')\n",
    "plt.title('Data Distribution for the combined Original and Generated Data')\n",
    "plt.show()"
   ]
  },
  {
   "cell_type": "code",
   "execution_count": 163,
   "metadata": {},
   "outputs": [
    {
     "name": "stdout",
     "output_type": "stream",
     "text": [
      "n_iterations: 4\n",
      "n_required_iterations: 4\n",
      "n_possible_iterations: 4\n",
      "min_resources_: 94\n",
      "max_resources_: 2542\n",
      "aggressive_elimination: False\n",
      "factor: 3\n",
      "----------\n",
      "iter: 0\n",
      "n_candidates: 35\n",
      "n_resources: 94\n",
      "Fitting 5 folds for each of 35 candidates, totalling 175 fits\n",
      "----------\n",
      "iter: 1\n",
      "n_candidates: 12\n",
      "n_resources: 282\n",
      "Fitting 5 folds for each of 12 candidates, totalling 60 fits\n",
      "----------\n",
      "iter: 2\n",
      "n_candidates: 4\n",
      "n_resources: 846\n",
      "Fitting 5 folds for each of 4 candidates, totalling 20 fits\n",
      "----------\n",
      "iter: 3\n",
      "n_candidates: 2\n",
      "n_resources: 2538\n",
      "Fitting 5 folds for each of 2 candidates, totalling 10 fits\n",
      "{'C': 4.75} F1-score: 0.7474797303109096\n",
      "HalvingGridSearchCV F1-score: 0.7474797303109096\n",
      "               precision    recall  f1-score   support\n",
      "\n",
      "    Distorted       0.79      0.85      0.82       331\n",
      "No Distortion       0.67      0.57      0.61       175\n",
      "\n",
      "     accuracy                           0.75       506\n",
      "    macro avg       0.73      0.71      0.72       506\n",
      " weighted avg       0.75      0.75      0.75       506\n",
      "\n",
      "[[282  49]\n",
      " [ 76  99]]\n"
     ]
    },
    {
     "data": {
      "image/png": "[encoded data removed]",
      "text/plain": [
       "<Figure size 600x400 with 2 Axes>"
      ]
     },
     "metadata": {},
     "output_type": "display_data"
    }
   ],
   "source": [
    "from sklearn.metrics import confusion_matrix\n",
    "from sklearn.metrics import classification_report\n",
    "'''\n",
    "# run the best model with the best parameters\n",
    "for i in range(len(models)):\n",
    "    if f1_scores[i] == max(f1_scores):\n",
    "        best_model = models[i]\n",
    "        best_params = params[i]\n",
    "        break\n",
    "\n",
    "# train the best model with the best parameters manually\n",
    "search = HalvingGridSearchCV(best_model, best_params, cv=5, n_jobs=-1, verbose=1)\n",
    "search.fit(X_train_vectorized_new, y_train_new)\n",
    "y_pred = search.predict(X_test_vectorized)\n",
    "f1 = f1_score(y_test, y_pred, average='weighted')\n",
    "print(f\"{best_model.__class__.__name__} F1-score: {f1}\")\n",
    "'''\n",
    "\n",
    "# train the best model with the best parameters manually\n",
    "best_model.fit(X_train_vectorized_new, y_train_new)\n",
    "y_pred = best_model.predict(X_test_vectorized)\n",
    "f1 = f1_score(y_test, y_pred, average='weighted')\n",
    "\n",
    "print(f\"{best_model.best_params_} F1-score: {f1}\")\n",
    "print(f\"{best_model.__class__.__name__} F1-score: {f1}\")\n",
    "\n",
    "# print the full f1 score statistics\n",
    "print(classification_report(y_test, y_pred, target_names=discreteData_new['Dominant Distortion'].unique()))\n",
    "\n",
    "# print the confusion matrix with the actual and predicted labels\n",
    "print(confusion_matrix(y_test, y_pred, labels=discreteData_new['Dominant Distortion'].unique()))\n",
    "\n",
    "# plot the confusion matrix as a heatmap\n",
    "labels = discreteData_new['Dominant Distortion'].unique()\n",
    "cm = confusion_matrix(y_test, y_pred, labels=labels)\n",
    "plt.figure(figsize=(6, 4))\n",
    "sns.heatmap(cm, annot=True, fmt='d', cmap='Blues', xticklabels=labels, yticklabels=labels)\n",
    "plt.title(f'SBERT {best_model.__class__.__name__} Confusion Matrix')\n",
    "plt.xlabel('Predicted Label')\n",
    "plt.ylabel('True Label')\n",
    "plt.show()"
   ]
  },
  {
   "cell_type": "code",
   "execution_count": 164,
   "metadata": {},
   "outputs": [
    {
     "name": "stdout",
     "output_type": "stream",
     "text": [
      "{'C': 4.75}\n"
     ]
    }
   ],
   "source": [
    "# print the best parameters\n",
    "print(best_model.best_params_)"
   ]
  },
  {
   "cell_type": "code",
   "execution_count": null,
   "metadata": {},
   "outputs": [],
   "source": []
  }
 ],
 "metadata": {
  "kernelspec": {
   "display_name": "Python 3",
   "language": "python",
   "name": "python3"
  },
  "language_info": {
   "codemirror_mode": {
    "name": "ipython",
    "version": 3
   },
   "file_extension": ".py",
   "mimetype": "text/x-python",
   "name": "python",
   "nbconvert_exporter": "python",
   "pygments_lexer": "ipython3",
   "version": "3.10.10"
  }
 },
 "nbformat": 4,
 "nbformat_minor": 2
}
